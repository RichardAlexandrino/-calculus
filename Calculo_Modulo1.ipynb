{
  "nbformat": 4,
  "nbformat_minor": 0,
  "metadata": {
    "colab": {
      "provenance": [],
      "toc_visible": true,
      "authorship_tag": "ABX9TyO7R35uImWn2mkehaeZFEAt",
      "include_colab_link": true
    },
    "kernelspec": {
      "name": "python3",
      "display_name": "Python 3"
    },
    "language_info": {
      "name": "python"
    }
  },
  "cells": [
    {
      "cell_type": "markdown",
      "metadata": {
        "id": "view-in-github",
        "colab_type": "text"
      },
      "source": [
        "<a href=\"https://colab.research.google.com/github/RichardAlexandrino/calculus/blob/main/Calculo_Modulo1.ipynb\" target=\"_parent\"><img src=\"https://colab.research.google.com/assets/colab-badge.svg\" alt=\"Open In Colab\"/></a>"
      ]
    },
    {
      "cell_type": "markdown",
      "source": [
        "# Aula 0\n",
        "\n",
        "Criando uma variável var e colocando o valor 1 nela. Depois exibindo o valor contido nela com o comando print."
      ],
      "metadata": {
        "id": "4m6IsCC7MWXF"
      }
    },
    {
      "cell_type": "code",
      "source": [
        "# meu primeiro código\n"
      ],
      "metadata": {
        "id": "o0m5yStzMF8R"
      },
      "execution_count": null,
      "outputs": []
    },
    {
      "cell_type": "code",
      "execution_count": null,
      "metadata": {
        "colab": {
          "base_uri": "https://localhost:8080/"
        },
        "id": "hS0Cy7CVL0cB",
        "outputId": "7abba0b8-a56c-422e-c281-a8ea67fa551e"
      },
      "outputs": [
        {
          "output_type": "stream",
          "name": "stdout",
          "text": [
            "1\n"
          ]
        }
      ],
      "source": [
        "var = 1\n",
        "print(var)"
      ]
    },
    {
      "cell_type": "markdown",
      "source": [
        "# Aula 1\n"
      ],
      "metadata": {
        "id": "2gNljMbSPFgZ"
      }
    },
    {
      "cell_type": "markdown",
      "source": [
        "Código feito para obter o erro de armazenamento de um número real"
      ],
      "metadata": {
        "id": "JVWzs2B8IWG-"
      }
    },
    {
      "cell_type": "code",
      "source": [
        "val = 0.1 + 0.1 + 0.1\n",
        "print(\"val = \" + str(val))\n",
        "\n",
        "n = 30000\n",
        "lista1 = [0.5]*n\n",
        "#print(lista1)\n",
        "print(len(lista1))\n",
        "print(sum(lista1))\n",
        "\n",
        "lista2 = [0.1]*n\n",
        "#print(lista2)\n",
        "print(len(lista2))\n",
        "print(sum(lista2))"
      ],
      "metadata": {
        "colab": {
          "base_uri": "https://localhost:8080/"
        },
        "id": "bUvTHvtxPI_x",
        "outputId": "4d5ef09d-5d1d-4002-b474-d14b65038e97"
      },
      "execution_count": null,
      "outputs": [
        {
          "output_type": "stream",
          "name": "stdout",
          "text": [
            "val = 0.30000000000000004\n",
            "30000\n",
            "15000.0\n",
            "30000\n",
            "2999.999999998367\n"
          ]
        }
      ]
    },
    {
      "cell_type": "markdown",
      "source": [
        "# Aula 2"
      ],
      "metadata": {
        "id": "siUt8NOVxTSG"
      }
    },
    {
      "cell_type": "code",
      "source": [
        "print(1.7e308) # limite máximo que o computador pode armazenar\n",
        "print(1.82e308)"
      ],
      "metadata": {
        "colab": {
          "base_uri": "https://localhost:8080/"
        },
        "id": "mEUdYo6OxUlo",
        "outputId": "d45be52c-9f99-421e-e07f-6fc62981a6d0"
      },
      "execution_count": null,
      "outputs": [
        {
          "output_type": "stream",
          "name": "stdout",
          "text": [
            "1.7e+308\n",
            "inf\n"
          ]
        }
      ]
    },
    {
      "cell_type": "markdown",
      "source": [
        "# Aula 3"
      ],
      "metadata": {
        "id": "OgNaFGQ1xz0Y"
      }
    },
    {
      "cell_type": "markdown",
      "source": [
        "Obtendo o número de bits para representar um valor no computador"
      ],
      "metadata": {
        "id": "Pl-YEdiqJD2a"
      }
    },
    {
      "cell_type": "code",
      "source": [
        "num = input('Digite um numero inteiro: ')\n",
        "print(type(num))\n",
        "num = int(num)\n",
        "print(type(num))\n",
        "\n",
        "bits = num.bit_length()\n",
        "print('Numero de bits necessarios =', bits)\n",
        "\n",
        "r = bin(num)\n",
        "print(\"Valor binario =\", r)"
      ],
      "metadata": {
        "id": "M9-9upNXx0yT",
        "colab": {
          "base_uri": "https://localhost:8080/"
        },
        "outputId": "a71a0c2a-00e4-448e-9f19-12d16741d57f"
      },
      "execution_count": null,
      "outputs": [
        {
          "output_type": "stream",
          "name": "stdout",
          "text": [
            "Digite um numero inteiro: 16\n",
            "<class 'str'>\n",
            "<class 'int'>\n",
            "Numero de bits necessarios = 5\n",
            "Valor binario = 0b10000\n"
          ]
        }
      ]
    },
    {
      "cell_type": "markdown",
      "source": [
        "# Aula 4"
      ],
      "metadata": {
        "id": "S3vfTTNCG2Q9"
      }
    },
    {
      "cell_type": "markdown",
      "source": [
        "Aplicando algoritmo de conversão"
      ],
      "metadata": {
        "id": "NUbm0MevOQZe"
      }
    },
    {
      "cell_type": "code",
      "source": [
        "lista = [1, 0, 1, 1, 1]\n",
        "b4 = lista[0]\n",
        "b3 = lista[1] + 2*b4\n",
        "b2 = lista[2] + 2*b3\n",
        "b1 = lista[3] + 2*b2\n",
        "b0 = lista[4] + 2*b1\n",
        "print(b0)"
      ],
      "metadata": {
        "colab": {
          "base_uri": "https://localhost:8080/"
        },
        "id": "5hsvepSUOTjc",
        "outputId": "0b9116a5-2612-4e73-9c4d-fdea1ba7e2e1"
      },
      "execution_count": null,
      "outputs": [
        {
          "output_type": "stream",
          "name": "stdout",
          "text": [
            "23\n"
          ]
        }
      ]
    },
    {
      "cell_type": "code",
      "source": [
        "lista = [1, 0, 1, 1, 1]\n",
        "num = lista[0]\n",
        "for i in range(1, len(lista)):\n",
        "  num = lista[i] + 2*num\n",
        "\n",
        "print(num)"
      ],
      "metadata": {
        "colab": {
          "base_uri": "https://localhost:8080/"
        },
        "id": "eJMoH0UGOYn_",
        "outputId": "6d525a86-f1c7-41db-b839-565d0c0df331"
      },
      "execution_count": null,
      "outputs": [
        {
          "output_type": "stream",
          "name": "stdout",
          "text": [
            "23\n"
          ]
        }
      ]
    },
    {
      "cell_type": "markdown",
      "source": [
        "# Aula 5"
      ],
      "metadata": {
        "id": "8wHPxboNTP5h"
      }
    },
    {
      "cell_type": "code",
      "source": [
        "val = input('Digite o número binário: ')\n",
        "print('O valor digitado é (' + val + ')_2')\n",
        "\n",
        "lv = len(val)\n",
        "\n",
        "num = int(val[0])\n",
        "for i in range(1, lv):\n",
        "  num = (int(val[i]) + 2*num)\n",
        "\n",
        "if (num % 2 == 0):\n",
        "  num = num + int(val[-1])\n",
        "else:\n",
        "  num = num + int(val[-1]) - 1\n",
        "\n",
        "print(\"Valor (\" + str(val) + \")_2 na base 10: \" + str(num))"
      ],
      "metadata": {
        "colab": {
          "base_uri": "https://localhost:8080/"
        },
        "id": "8VUDoZLYWY7P",
        "outputId": "fcdefefa-6592-4af0-8e99-6dffa91d5124"
      },
      "execution_count": 24,
      "outputs": [
        {
          "output_type": "stream",
          "name": "stdout",
          "text": [
            "Digite o número binário: 10010011\n",
            "O valor digitado é (10010011)_2\n",
            "Valor (10010011)_2 na base 10: 147\n"
          ]
        }
      ]
    },
    {
      "cell_type": "code",
      "source": [
        "val = input('Digite o número decimal: ')\n",
        "print('O valor digitado é (' + val + ')_10')\n",
        "\n",
        "val = int(val)\n",
        "num = []\n",
        "num.append(val % 2)\n",
        "val = int(val/2)\n",
        "\n",
        "while (val >= 1):\n",
        "  num.append(val % 2)\n",
        "  val = int(val / 2)\n",
        "\n",
        "num = num[::-1]\n",
        "print(\"Valor (\" + str(val) + \")_10 na base 2: \" + str(num))"
      ],
      "metadata": {
        "colab": {
          "base_uri": "https://localhost:8080/"
        },
        "id": "nNI8GPYmW-m3",
        "outputId": "6c9a2ae1-5b19-4d4f-8177-dd23cbb94394"
      },
      "execution_count": 33,
      "outputs": [
        {
          "output_type": "stream",
          "name": "stdout",
          "text": [
            "Digite o número decimal: 20\n",
            "O valor digitado é (20)_10\n",
            "Valor (0)_10 na base 2: [1, 0, 1, 0, 0]\n"
          ]
        }
      ]
    }
  ]
}